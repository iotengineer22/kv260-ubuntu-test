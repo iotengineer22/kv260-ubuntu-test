{
 "cells": [
  {
   "cell_type": "markdown",
   "metadata": {},
   "source": [
    "# DPU example: YOLOx-nano\n",
    "----"
   ]
  },
  {
   "cell_type": "code",
   "execution_count": null,
   "metadata": {},
   "outputs": [],
   "source": []
  },
  {
   "cell_type": "code",
   "execution_count": 1,
   "metadata": {},
   "outputs": [],
   "source": [
    "# ***********************************************************************\n",
    "# Import Packages\n",
    "# ***********************************************************************"
   ]
  },
  {
   "cell_type": "code",
   "execution_count": 2,
   "metadata": {},
   "outputs": [
    {
     "data": {
      "application/javascript": "\ntry {\nrequire(['notebook/js/codecell'], function(codecell) {\n  codecell.CodeCell.options_default.highlight_modes[\n      'magic_text/x-csrc'] = {'reg':[/^%%microblaze/]};\n  Jupyter.notebook.events.one('kernel_ready.Kernel', function(){\n      Jupyter.notebook.get_cells().map(function(cell){\n          if (cell.cell_type == 'code'){ cell.auto_highlight(); } }) ;\n  });\n});\n} catch (e) {};\n"
     },
     "metadata": {},
     "output_type": "display_data"
    },
    {
     "data": {
      "application/javascript": "\ntry {\nrequire(['notebook/js/codecell'], function(codecell) {\n  codecell.CodeCell.options_default.highlight_modes[\n      'magic_text/x-csrc'] = {'reg':[/^%%pybind11/]};\n  Jupyter.notebook.events.one('kernel_ready.Kernel', function(){\n      Jupyter.notebook.get_cells().map(function(cell){\n          if (cell.cell_type == 'code'){ cell.auto_highlight(); } }) ;\n  });\n});\n} catch (e) {};\n"
     },
     "metadata": {},
     "output_type": "display_data"
    }
   ],
   "source": [
    "from pynq_dpu import DpuOverlay\n",
    "overlay = DpuOverlay(\"dpu.bit\")"
   ]
  },
  {
   "cell_type": "code",
   "execution_count": 3,
   "metadata": {},
   "outputs": [
    {
     "name": "stderr",
     "output_type": "stream",
     "text": [
      "/usr/local/share/pynq-venv/lib/python3.10/site-packages/matplotlib/projections/__init__.py:63: UserWarning: Unable to import Axes3D. This may be due to multiple versions of Matplotlib being installed (e.g. as a system package and as a pip package). As a result, the 3D projection is not available.\n",
      "  warnings.warn(\"Unable to import Axes3D. This may be due to multiple versions of \"\n"
     ]
    }
   ],
   "source": [
    "import os\n",
    "import time\n",
    "import numpy as np\n",
    "import cv2\n",
    "import random\n",
    "import colorsys\n",
    "from matplotlib.patches import Rectangle\n",
    "import matplotlib.pyplot as plt\n",
    "%matplotlib inline\n",
    "\n",
    "import copy"
   ]
  },
  {
   "cell_type": "code",
   "execution_count": 4,
   "metadata": {},
   "outputs": [],
   "source": [
    "overlay.load_model(\"b4096_2_5_yolox_nano_pt.xmodel\")"
   ]
  },
  {
   "cell_type": "code",
   "execution_count": 5,
   "metadata": {},
   "outputs": [],
   "source": [
    "image_folder = 'img'\n",
    "original_images = [i for i in os.listdir(image_folder) if i.endswith(\"JPEG\")]\n",
    "total_images = len(original_images)"
   ]
  },
  {
   "cell_type": "code",
   "execution_count": 6,
   "metadata": {},
   "outputs": [],
   "source": [
    "# ***********************************************************************\n",
    "# Use VART APIs\n",
    "# ***********************************************************************"
   ]
  },
  {
   "cell_type": "code",
   "execution_count": 7,
   "metadata": {},
   "outputs": [],
   "source": [
    "dpu = overlay.runner"
   ]
  },
  {
   "cell_type": "code",
   "execution_count": 8,
   "metadata": {},
   "outputs": [
    {
     "name": "stdout",
     "output_type": "stream",
     "text": [
      "vart::Runner@0xaaaab9bc5ff0\n"
     ]
    }
   ],
   "source": [
    "print(dpu)"
   ]
  },
  {
   "cell_type": "code",
   "execution_count": 9,
   "metadata": {},
   "outputs": [],
   "source": [
    "inputTensors = dpu.get_input_tensors()"
   ]
  },
  {
   "cell_type": "code",
   "execution_count": 10,
   "metadata": {},
   "outputs": [
    {
     "name": "stdout",
     "output_type": "stream",
     "text": [
      "[<xir.Tensor named 'YOLOX__YOLOX_QuantStub_quant_in__input_1_fix'>]\n"
     ]
    }
   ],
   "source": [
    "print(inputTensors)"
   ]
  },
  {
   "cell_type": "code",
   "execution_count": 11,
   "metadata": {},
   "outputs": [],
   "source": [
    "outputTensors = dpu.get_output_tensors()"
   ]
  },
  {
   "cell_type": "code",
   "execution_count": 12,
   "metadata": {},
   "outputs": [
    {
     "name": "stdout",
     "output_type": "stream",
     "text": [
      "[<xir.Tensor named 'YOLOX__YOLOX_YOLOXHead_head__Cat_cat_list__ModuleList_0__inputs_3_fix'>, <xir.Tensor named 'YOLOX__YOLOX_YOLOXHead_head__Cat_cat_list__ModuleList_1__inputs_5_fix'>, <xir.Tensor named 'YOLOX__YOLOX_YOLOXHead_head__Cat_cat_list__ModuleList_2__inputs_fix'>]\n"
     ]
    }
   ],
   "source": [
    "print(outputTensors)"
   ]
  },
  {
   "cell_type": "code",
   "execution_count": 13,
   "metadata": {},
   "outputs": [],
   "source": [
    "shapeIn = tuple(inputTensors[0].dims)"
   ]
  },
  {
   "cell_type": "code",
   "execution_count": 14,
   "metadata": {},
   "outputs": [
    {
     "name": "stdout",
     "output_type": "stream",
     "text": [
      "(1, 416, 416, 3)\n"
     ]
    }
   ],
   "source": [
    "print(shapeIn)"
   ]
  },
  {
   "cell_type": "code",
   "execution_count": 15,
   "metadata": {},
   "outputs": [],
   "source": [
    "shapeOut0 = (tuple(outputTensors[0].dims)) # (1, 52, 52, 85)\n",
    "shapeOut1 = (tuple(outputTensors[1].dims)) # (1, 26, 26, 85)\n",
    "shapeOut2 = (tuple(outputTensors[2].dims)) # (1, 13, 13, 85)"
   ]
  },
  {
   "cell_type": "code",
   "execution_count": 16,
   "metadata": {},
   "outputs": [
    {
     "name": "stdout",
     "output_type": "stream",
     "text": [
      "(1, 52, 52, 85)\n",
      "(1, 26, 26, 85)\n",
      "(1, 13, 13, 85)\n"
     ]
    }
   ],
   "source": [
    "print(shapeOut0)\n",
    "print(shapeOut1)\n",
    "print(shapeOut2)"
   ]
  },
  {
   "cell_type": "code",
   "execution_count": 17,
   "metadata": {
    "scrolled": true
   },
   "outputs": [],
   "source": [
    "outputSize0 = int(outputTensors[0].get_data_size() / shapeIn[0]) # 229840\n",
    "outputSize1 = int(outputTensors[1].get_data_size() / shapeIn[0]) # 57460\n",
    "outputSize2 = int(outputTensors[2].get_data_size() / shapeIn[0]) # 14365"
   ]
  },
  {
   "cell_type": "code",
   "execution_count": 18,
   "metadata": {},
   "outputs": [
    {
     "name": "stdout",
     "output_type": "stream",
     "text": [
      "229840\n",
      "57460\n",
      "14365\n"
     ]
    }
   ],
   "source": [
    "print(outputSize0)\n",
    "print(outputSize1)\n",
    "print(outputSize2)"
   ]
  },
  {
   "cell_type": "code",
   "execution_count": 19,
   "metadata": {},
   "outputs": [],
   "source": [
    "input_data = [np.empty(shapeIn, dtype=np.float32, order=\"C\")]\n",
    "output_data = [np.empty(shapeOut0, dtype=np.float32, order=\"C\"), \n",
    "               np.empty(shapeOut1, dtype=np.float32, order=\"C\"),\n",
    "               np.empty(shapeOut2, dtype=np.float32, order=\"C\")]\n",
    "image = input_data[0]"
   ]
  },
  {
   "cell_type": "code",
   "execution_count": null,
   "metadata": {},
   "outputs": [],
   "source": []
  },
  {
   "cell_type": "code",
   "execution_count": 20,
   "metadata": {},
   "outputs": [],
   "source": [
    "def preprocess(image, input_size, swap=(2, 0, 1)):\n",
    "    if len(image.shape) == 3:\n",
    "        padded_image = np.ones(\n",
    "            (input_size[0], input_size[1], 3), dtype=np.uint8) * 114\n",
    "    else:\n",
    "        padded_image = np.ones(input_size, dtype=np.uint8) * 114\n",
    "\n",
    "    ratio = min(input_size[0] / image.shape[0],\n",
    "                input_size[1] / image.shape[1])\n",
    "    resized_image = cv2.resize(\n",
    "        image,\n",
    "        (int(image.shape[1] * ratio), int(image.shape[0] * ratio)),\n",
    "        interpolation=cv2.INTER_LINEAR,\n",
    "    )\n",
    "    resized_image = resized_image.astype(np.uint8)\n",
    "\n",
    "    padded_image[:int(image.shape[0] * ratio), :int(image.shape[1] *\n",
    "                                                    ratio)] = resized_image\n",
    "    #padded_image = padded_image.transpose(swap)\n",
    "\n",
    "    padded_image = np.ascontiguousarray(padded_image, dtype=np.float32)\n",
    "    return padded_image, ratio"
   ]
  },
  {
   "cell_type": "code",
   "execution_count": 21,
   "metadata": {},
   "outputs": [],
   "source": [
    "def sigmoid(x):\n",
    "    return 1 / (1 + np.exp(-x))\n",
    "\n",
    "def softmax(x):\n",
    "    exp_x = np.exp(x - np.max(x))\n",
    "    return exp_x / exp_x.sum(axis=-1, keepdims=True)"
   ]
  },
  {
   "cell_type": "code",
   "execution_count": 22,
   "metadata": {},
   "outputs": [],
   "source": [
    "def postprocess(\n",
    "    outputs,\n",
    "    img_size,\n",
    "    ratio,\n",
    "    nms_th,\n",
    "    nms_score_th,\n",
    "    max_width,\n",
    "    max_height,\n",
    "    p6=False,\n",
    "):\n",
    "    grids = []\n",
    "    expanded_strides = []\n",
    "\n",
    "    if not p6:\n",
    "        strides = [8, 16, 32]\n",
    "    else:\n",
    "        strides = [8, 16, 32, 64]\n",
    "\n",
    "    hsizes = [img_size[0] // stride for stride in strides]\n",
    "    wsizes = [img_size[1] // stride for stride in strides]\n",
    "\n",
    "    for hsize, wsize, stride in zip(hsizes, wsizes, strides):\n",
    "        xv, yv = np.meshgrid(np.arange(wsize), np.arange(hsize))\n",
    "        grid = np.stack((xv, yv), 2).reshape(1, -1, 2)\n",
    "        grids.append(grid)\n",
    "        shape = grid.shape[:2]\n",
    "        expanded_strides.append(np.full((*shape, 1), stride))\n",
    "\n",
    "    grids = np.concatenate(grids, 1)\n",
    "    expanded_strides = np.concatenate(expanded_strides, 1)\n",
    "    outputs[..., :2] = (outputs[..., :2] + grids) * expanded_strides\n",
    "    outputs[..., 2:4] = np.exp(outputs[..., 2:4]) * expanded_strides\n",
    "\n",
    "    predictions = outputs[0]\n",
    "    boxes = predictions[:, :4]\n",
    "    scores = sigmoid(predictions[:, 4:5]) * softmax(predictions[:, 5:])\n",
    "    #scores = predictions[:, 4:5] * predictions[:, 5:]\n",
    "    \n",
    "    boxes_xyxy = np.ones_like(boxes)\n",
    "    boxes_xyxy[:, 0] = boxes[:, 0] - boxes[:, 2] / 2.\n",
    "    boxes_xyxy[:, 1] = boxes[:, 1] - boxes[:, 3] / 2.\n",
    "    boxes_xyxy[:, 2] = boxes[:, 0] + boxes[:, 2] / 2.\n",
    "    boxes_xyxy[:, 3] = boxes[:, 1] + boxes[:, 3] / 2.\n",
    "    boxes_xyxy /= ratio\n",
    "\n",
    "    dets = multiclass_nms(\n",
    "        boxes_xyxy,\n",
    "        scores,\n",
    "        nms_thr=nms_th,\n",
    "        score_thr=nms_score_th,\n",
    "    )\n",
    "\n",
    "    bboxes, scores, class_ids = [], [], []\n",
    "    if dets is not None:\n",
    "        bboxes, scores, class_ids = dets[:, :4], dets[:, 4], dets[:, 5]\n",
    "        for bbox in bboxes:\n",
    "            bbox[0] = max(0, bbox[0])\n",
    "            bbox[1] = max(0, bbox[1])\n",
    "            bbox[2] = min(bbox[2], max_width)\n",
    "            bbox[3] = min(bbox[3], max_height)\n",
    "\n",
    "    return bboxes, scores, class_ids"
   ]
  },
  {
   "cell_type": "code",
   "execution_count": 23,
   "metadata": {},
   "outputs": [],
   "source": [
    "def nms(boxes, scores, nms_thr):\n",
    "    x1 = boxes[:, 0]\n",
    "    y1 = boxes[:, 1]\n",
    "    x2 = boxes[:, 2]\n",
    "    y2 = boxes[:, 3]\n",
    "\n",
    "    areas = (x2 - x1 + 1) * (y2 - y1 + 1)\n",
    "    order = scores.argsort()[::-1]\n",
    "\n",
    "    keep = []\n",
    "    while order.size > 0:\n",
    "        i = order[0]\n",
    "        keep.append(i)\n",
    "        xx1 = np.maximum(x1[i], x1[order[1:]])\n",
    "        yy1 = np.maximum(y1[i], y1[order[1:]])\n",
    "        xx2 = np.minimum(x2[i], x2[order[1:]])\n",
    "        yy2 = np.minimum(y2[i], y2[order[1:]])\n",
    "\n",
    "        w = np.maximum(0.0, xx2 - xx1 + 1)\n",
    "        h = np.maximum(0.0, yy2 - yy1 + 1)\n",
    "        inter = w * h\n",
    "        ovr = inter / (areas[i] + areas[order[1:]] - inter)\n",
    "\n",
    "        inds = np.where(ovr <= nms_thr)[0]\n",
    "        order = order[inds + 1]\n",
    "\n",
    "    return keep"
   ]
  },
  {
   "cell_type": "code",
   "execution_count": 24,
   "metadata": {},
   "outputs": [],
   "source": [
    "def multiclass_nms(\n",
    "    boxes,\n",
    "    scores,\n",
    "    nms_thr,\n",
    "    score_thr,\n",
    "    class_agnostic=True,\n",
    "):\n",
    "    if class_agnostic:\n",
    "        nms_method = multiclass_nms_class_agnostic\n",
    "    else:\n",
    "        nms_method = multiclass_nms_class_aware\n",
    "\n",
    "    return nms_method(boxes, scores, nms_thr, score_thr)"
   ]
  },
  {
   "cell_type": "code",
   "execution_count": 25,
   "metadata": {},
   "outputs": [],
   "source": [
    "def multiclass_nms_class_aware(boxes, scores, nms_thr, score_thr):\n",
    "    final_dets = []\n",
    "    num_classes = scores.shape[1]\n",
    "\n",
    "    for cls_ind in range(num_classes):\n",
    "        cls_scores = scores[:, cls_ind]\n",
    "        valid_score_mask = cls_scores > score_thr\n",
    "\n",
    "        if valid_score_mask.sum() == 0:\n",
    "            continue\n",
    "        else:\n",
    "            valid_scores = cls_scores[valid_score_mask]\n",
    "            valid_boxes = boxes[valid_score_mask]\n",
    "            keep = self._nms(valid_boxes, valid_scores, nms_thr)\n",
    "            if len(keep) > 0:\n",
    "                cls_inds = np.ones((len(keep), 1)) * cls_ind\n",
    "                dets = np.concatenate(\n",
    "                    [\n",
    "                        valid_boxes[keep], valid_scores[keep, None],\n",
    "                        cls_inds\n",
    "                    ],\n",
    "                    1,\n",
    "                )\n",
    "                final_dets.append(dets)\n",
    "\n",
    "    if len(final_dets) == 0:\n",
    "        return None\n",
    "\n",
    "    return np.concatenate(final_dets, 0)"
   ]
  },
  {
   "cell_type": "code",
   "execution_count": 26,
   "metadata": {},
   "outputs": [],
   "source": [
    "def multiclass_nms_class_agnostic(boxes, scores, nms_thr,\n",
    "                                    score_thr):\n",
    "    cls_inds = scores.argmax(1)\n",
    "    cls_scores = scores[np.arange(len(cls_inds)), cls_inds]\n",
    "\n",
    "    valid_score_mask = cls_scores > score_thr\n",
    "\n",
    "    if valid_score_mask.sum() == 0:\n",
    "        return None\n",
    "\n",
    "    valid_scores = cls_scores[valid_score_mask]\n",
    "    valid_boxes = boxes[valid_score_mask]\n",
    "    valid_cls_inds = cls_inds[valid_score_mask]\n",
    "    keep = nms(valid_boxes, valid_scores, nms_thr)\n",
    "\n",
    "    dets = None\n",
    "    if keep:\n",
    "        dets = np.concatenate([\n",
    "            valid_boxes[keep],\n",
    "            valid_scores[keep, None],\n",
    "            valid_cls_inds[keep, None],\n",
    "        ], 1)\n",
    "\n",
    "    return dets"
   ]
  },
  {
   "cell_type": "code",
   "execution_count": null,
   "metadata": {},
   "outputs": [],
   "source": []
  },
  {
   "cell_type": "code",
   "execution_count": 27,
   "metadata": {},
   "outputs": [],
   "source": [
    "'''Get model classification information'''\t\n",
    "def get_class(classes_path):\n",
    "    with open(classes_path) as f:\n",
    "        class_names = f.readlines()\n",
    "    class_names = [c.strip() for c in class_names]\n",
    "    return class_names\n",
    "    \n",
    "classes_path = \"img/coco2017_classes.txt\"\n",
    "class_names = get_class(classes_path)"
   ]
  },
  {
   "cell_type": "code",
   "execution_count": 28,
   "metadata": {},
   "outputs": [],
   "source": [
    "'''Draw detection frame'''\n",
    "def draw_bbox(image, bboxes, classes):\n",
    "    \"\"\"\n",
    "    bboxes: [x_min, y_min, x_max, y_max, probability, cls_id] format coordinates.\n",
    "    \"\"\"\n",
    "    num_classes = len(classes)\n",
    "    image_h, image_w, _ = image.shape\n",
    "    hsv_tuples = [(1.0 * x / num_classes, 1., 1.) for x in range(num_classes)]\n",
    "    colors = list(map(lambda x: colorsys.hsv_to_rgb(*x), hsv_tuples))\n",
    "    colors = list(map(lambda x: (int(x[0] * 255), int(x[1] * 255), int(x[2] * 255)), colors))\n",
    "\n",
    "    random.seed(0)\n",
    "    random.shuffle(colors)\n",
    "    random.seed(None)\n",
    "\n",
    "    for i, bbox in enumerate(bboxes):\n",
    "        coor = np.array(bbox[:4], dtype=np.int32)\n",
    "        fontScale = 0.5\n",
    "        score = bbox[4]\n",
    "        class_ind = int(bbox[5])\n",
    "        bbox_color = colors[class_ind]\n",
    "        bbox_thick = int(0.6 * (image_h + image_w) / 600)\n",
    "        c1, c2 = (coor[0], coor[1]), (coor[2], coor[3])\n",
    "        cv2.rectangle(image, c1, c2, bbox_color, bbox_thick)\n",
    "    return image"
   ]
  },
  {
   "cell_type": "code",
   "execution_count": null,
   "metadata": {},
   "outputs": [],
   "source": []
  },
  {
   "cell_type": "code",
   "execution_count": 29,
   "metadata": {},
   "outputs": [],
   "source": [
    "# ***********************************************************************\n",
    "# Main Program\n",
    "# ***********************************************************************"
   ]
  },
  {
   "cell_type": "code",
   "execution_count": 30,
   "metadata": {},
   "outputs": [],
   "source": [
    "def run(image_index, display=False):\n",
    "\n",
    "    input_shape=(416, 416)\n",
    "    class_score_th=0.3\n",
    "    nms_th=0.45\n",
    "    nms_score_th=0.1\n",
    "    start_time = time.time()\n",
    "    \n",
    "    input_image = cv2.imread(os.path.join(image_folder, original_images[image_index]))\n",
    "    \n",
    "    start_time = time.time()\n",
    "    # Pre-processing\n",
    "    pre_process_start = time.time()\n",
    "    #temp_image = copy.deepcopy(input_image)\n",
    "    image_height, image_width = input_image.shape[0], input_image.shape[1]\n",
    "    image_size = input_image.shape[:2]\n",
    "    image_data, ratio = preprocess(input_image, input_shape)\n",
    "    pre_process_end = time.time()\n",
    "    \n",
    "    # Fetch data to DPU and trigger it\n",
    "    dpu_start = time.time()\n",
    "    image[0,...] = image_data.reshape(shapeIn[1:])    \n",
    "    #output_folder = \"img/\"\n",
    "    #result_path = os.path.join(output_folder, f'preprocess.jpg')\n",
    "    #cv2.imwrite(result_path, image[0])\n",
    "    job_id = dpu.execute_async(input_data, output_data)\n",
    "    dpu.wait(job_id)\n",
    "    dpu_end = time.time()\n",
    "    \n",
    "    # postprocess\n",
    "    decode_start = time.time()\n",
    "    outputs = np.concatenate([output.reshape(1, -1, output.shape[-1]) for output in output_data], axis=1)\n",
    "    bboxes, scores, class_ids = postprocess(\n",
    "        outputs,\n",
    "        input_shape,\n",
    "        ratio,\n",
    "        nms_th,\n",
    "        nms_score_th,\n",
    "        image_width,\n",
    "        image_height,\n",
    "    )\n",
    "    decode_end = time.time()\n",
    "    \n",
    "    end_time = time.time()\n",
    "    \n",
    "    # draw_bbox\n",
    "    draw_start = time.time()\n",
    "    if display:\n",
    "        bboxes_with_scores_and_classes = []\n",
    "        for i in range(len(bboxes)):\n",
    "            bbox = bboxes[i].tolist() + [scores[i], class_ids[i]]\n",
    "            bboxes_with_scores_and_classes.append(bbox)\n",
    "        bboxes_with_scores_and_classes = np.array(bboxes_with_scores_and_classes)\n",
    "        display = draw_bbox(input_image, bboxes_with_scores_and_classes, class_names)\n",
    "        output_folder = \"img/\"\n",
    "        result_path = os.path.join(output_folder, f'result.jpg')\n",
    "        cv2.imwrite(result_path, display)\n",
    "    draw_end = time.time()\n",
    "    \n",
    "   \n",
    "    print(\"Details of detected objects: {}\".format(class_ids))\n",
    "    print(\"Pre-processing time: {:.4f} seconds\".format(pre_process_end - pre_process_start))\n",
    "    print(\"DPU execution time: {:.4f} seconds\".format(dpu_end - dpu_start))\n",
    "    print(\"Post-process time: {:.4f} seconds\".format(decode_end - decode_start))\n",
    "    #print(\"Draw boxes time: {:.4f} seconds\".format(draw_end - draw_start))\n",
    "    print(\"Total run time: {:.4f} seconds\".format(end_time - start_time))\n",
    "    print(\"Performance: {} FPS\".format(1/(end_time - start_time)))\n",
    "    \n",
    "    return bboxes, scores, class_ids\n",
    "    \n",
    "\n"
   ]
  },
  {
   "cell_type": "code",
   "execution_count": 35,
   "metadata": {
    "scrolled": false
   },
   "outputs": [
    {
     "name": "stdout",
     "output_type": "stream",
     "text": [
      "Details of detected objects: [49. 60.]\n",
      "Pre-processing time: 0.0080 seconds\n",
      "DPU execution time: 0.0154 seconds\n",
      "Post-process time: 0.0303 seconds\n",
      "Total run time: 0.0537 seconds\n",
      "Performance: 18.629593767488963 FPS\n"
     ]
    },
    {
     "data": {
      "text/plain": [
       "(array([[ 458.11553955,  125.8078537 ,  821.88452148,  489.57681274],\n",
       "        [  40.24644089,    0.        , 1239.75366211,  720.        ]]),\n",
       " array([0.56179011, 0.11786249]),\n",
       " array([49., 60.]))"
      ]
     },
     "execution_count": 35,
     "metadata": {},
     "output_type": "execute_result"
    }
   ],
   "source": [
    "run(0, display=True)"
   ]
  },
  {
   "cell_type": "code",
   "execution_count": null,
   "metadata": {},
   "outputs": [],
   "source": []
  },
  {
   "cell_type": "code",
   "execution_count": 36,
   "metadata": {},
   "outputs": [],
   "source": [
    "del overlay\n",
    "del dpu"
   ]
  },
  {
   "cell_type": "code",
   "execution_count": null,
   "metadata": {},
   "outputs": [],
   "source": []
  }
 ],
 "metadata": {
  "kernelspec": {
   "display_name": "Python 3 (ipykernel)",
   "language": "python",
   "name": "python3"
  },
  "language_info": {
   "codemirror_mode": {
    "name": "ipython",
    "version": 3
   },
   "file_extension": ".py",
   "mimetype": "text/x-python",
   "name": "python",
   "nbconvert_exporter": "python",
   "pygments_lexer": "ipython3",
   "version": "3.10.12"
  }
 },
 "nbformat": 4,
 "nbformat_minor": 4
}
