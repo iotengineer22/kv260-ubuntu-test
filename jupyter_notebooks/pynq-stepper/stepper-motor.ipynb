{
 "cells": [
  {
   "cell_type": "code",
   "execution_count": null,
   "id": "19eb1479",
   "metadata": {},
   "outputs": [],
   "source": [
    "# Stepper motor test in Programmable Logic (PL)"
   ]
  },
  {
   "cell_type": "code",
   "execution_count": 1,
   "id": "b8f127de",
   "metadata": {},
   "outputs": [
    {
     "name": "stdout",
     "output_type": "stream",
     "text": [
      "/root/jupyter_notebooks/pynq-gpio\r\n"
     ]
    }
   ],
   "source": [
    "!pwd"
   ]
  },
  {
   "cell_type": "code",
   "execution_count": 2,
   "id": "a2b53141",
   "metadata": {},
   "outputs": [
    {
     "name": "stdout",
     "output_type": "stream",
     "text": [
      "design_1_wrapper.bit  design_1_wrapper.hwh  GPIO-test-PCB.ipynb\r\n"
     ]
    }
   ],
   "source": [
    "!ls"
   ]
  },
  {
   "cell_type": "code",
   "execution_count": null,
   "id": "1b2b0b22",
   "metadata": {},
   "outputs": [],
   "source": []
  },
  {
   "cell_type": "code",
   "execution_count": 3,
   "id": "9527a7ce",
   "metadata": {},
   "outputs": [
    {
     "data": {
      "application/javascript": "\ntry {\nrequire(['notebook/js/codecell'], function(codecell) {\n  codecell.CodeCell.options_default.highlight_modes[\n      'magic_text/x-csrc'] = {'reg':[/^%%microblaze/]};\n  Jupyter.notebook.events.one('kernel_ready.Kernel', function(){\n      Jupyter.notebook.get_cells().map(function(cell){\n          if (cell.cell_type == 'code'){ cell.auto_highlight(); } }) ;\n  });\n});\n} catch (e) {};\n"
     },
     "metadata": {},
     "output_type": "display_data"
    },
    {
     "data": {
      "application/javascript": "\ntry {\nrequire(['notebook/js/codecell'], function(codecell) {\n  codecell.CodeCell.options_default.highlight_modes[\n      'magic_text/x-csrc'] = {'reg':[/^%%pybind11/]};\n  Jupyter.notebook.events.one('kernel_ready.Kernel', function(){\n      Jupyter.notebook.get_cells().map(function(cell){\n          if (cell.cell_type == 'code'){ cell.auto_highlight(); } }) ;\n  });\n});\n} catch (e) {};\n"
     },
     "metadata": {},
     "output_type": "display_data"
    }
   ],
   "source": [
    "from pynq import Overlay\n",
    "from pynq.lib import AxiGPIO\n",
    "import time\n",
    "ol = Overlay(\"/root/jupyter_notebooks/pynq-stepper/dpu.bit\")\n",
    "\n",
    "gpio_0_ip = ol.ip_dict['axi_gpio_0']\n",
    "gpio_1_ip = ol.ip_dict['axi_gpio_1']\n",
    "gpio_0_out = AxiGPIO(gpio_0_ip).channel1\n",
    "gpio_1_out = AxiGPIO(gpio_1_ip).channel1\n",
    "mask = 0xffffffff"
   ]
  },
  {
   "cell_type": "code",
   "execution_count": null,
   "id": "82c9d741",
   "metadata": {},
   "outputs": [],
   "source": [
    "# Stepper motor sequence\n",
    "step_sequence = [\n",
    "    0x8,    #[1, 0, 0, 0],\n",
    "    0xC,    #[1, 1, 0, 0],\n",
    "    0x4,    #[0, 1, 0, 0],\n",
    "    0x6,    #[0, 1, 1, 0],\n",
    "    0x2,    #[0, 0, 1, 0],\n",
    "    0x3,    #[0, 0, 1, 1],\n",
    "    0x1,    #[0, 0, 0, 1],\n",
    "    0x9     #[1, 0, 0, 1]\n",
    "]"
   ]
  },
  {
   "cell_type": "code",
   "execution_count": 4,
   "id": "08b1c4c9",
   "metadata": {},
   "outputs": [],
   "source": [
    "def move_motor(steps, delay):\n",
    "    gpio_1_out.write(0x1,mask)\n",
    "    for _ in range(steps):\n",
    "        for num in step_sequence:\n",
    "            gpio_0_out.write(num,mask)\n",
    "            time.sleep(delay)"
   ]
  },
  {
   "cell_type": "code",
   "execution_count": null,
   "id": "b2560fef",
   "metadata": {},
   "outputs": [],
   "source": [
    "try:\n",
    "    while True:\n",
    "        move_motor(64, 0.01)  # Set the number of steps and delay\n",
    "        time.sleep(1)  # Wait for 1 second\n",
    "        \n",
    "except KeyboardInterrupt:\n",
    "    print(\"Exiting program\")\n",
    "    gpio_0_out.write(0x0,mask)\n",
    "    gpio_1_out.write(0x0,mask)\n"
   ]
  },
  {
   "cell_type": "code",
   "execution_count": null,
   "id": "ef92051b",
   "metadata": {},
   "outputs": [],
   "source": []
  }
 ],
 "metadata": {
  "kernelspec": {
   "display_name": "Python 3 (ipykernel)",
   "language": "python",
   "name": "python3"
  },
  "language_info": {
   "codemirror_mode": {
    "name": "ipython",
    "version": 3
   },
   "file_extension": ".py",
   "mimetype": "text/x-python",
   "name": "python",
   "nbconvert_exporter": "python",
   "pygments_lexer": "ipython3",
   "version": "3.10.12"
  }
 },
 "nbformat": 4,
 "nbformat_minor": 5
}
