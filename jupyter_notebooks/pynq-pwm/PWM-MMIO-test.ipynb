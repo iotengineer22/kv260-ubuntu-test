{
 "cells": [
  {
   "cell_type": "code",
   "execution_count": 23,
   "id": "641cbee1",
   "metadata": {},
   "outputs": [],
   "source": [
    "# PWM-MMIO-test in Programmable Logic (PL)"
   ]
  },
  {
   "cell_type": "code",
   "execution_count": null,
   "id": "645a83b3",
   "metadata": {},
   "outputs": [],
   "source": []
  },
  {
   "cell_type": "code",
   "execution_count": 24,
   "id": "b8f127de",
   "metadata": {},
   "outputs": [
    {
     "name": "stdout",
     "output_type": "stream",
     "text": [
      "/root/jupyter_notebooks/pynq-pwm\r\n"
     ]
    }
   ],
   "source": [
    "!pwd"
   ]
  },
  {
   "cell_type": "code",
   "execution_count": 25,
   "id": "a2b53141",
   "metadata": {},
   "outputs": [
    {
     "name": "stdout",
     "output_type": "stream",
     "text": [
      "design.xdc  dpu.bit  dpu.hwh  dpu.xclbin  PWM-MMIO-test.ipynb\r\n"
     ]
    }
   ],
   "source": [
    "!ls"
   ]
  },
  {
   "cell_type": "code",
   "execution_count": 26,
   "id": "e6bed74b",
   "metadata": {},
   "outputs": [],
   "source": [
    "from pynq import Overlay\n",
    "from pynq import MMIO\n",
    "from pynq.lib import AxiGPIO\n",
    "\n",
    "ol = Overlay(\"/root/jupyter_notebooks/pynq-pwm/dpu.bit\")\n"
   ]
  },
  {
   "cell_type": "code",
   "execution_count": 42,
   "id": "89b6eb59",
   "metadata": {},
   "outputs": [],
   "source": [
    "gpio_1_ip = ol.ip_dict['axi_gpio_1']\n",
    "gpio_out = AxiGPIO(gpio_1_ip).channel1\n",
    "\n",
    "mask = 0xffffffff\n",
    "gpio_out.write(0x1,mask)"
   ]
  },
  {
   "cell_type": "code",
   "execution_count": 43,
   "id": "5080db1d",
   "metadata": {},
   "outputs": [],
   "source": [
    "base_address_0 = 0xA0010000     # axi_timer_0\n",
    "base_address_1 = 0xA0030000     # axi_timer_1\n",
    "base_address_2 = 0xA0040000     # axi_timer_2\n",
    "base_address_3 = 0xA0050000     # axi_timer_3\n",
    "address_range = 0x10000         # axi_timer_*\n",
    "\n",
    "mmio_0 = MMIO(base_address_0, address_range)\n",
    "mmio_1 = MMIO(base_address_1, address_range)\n",
    "mmio_2 = MMIO(base_address_2, address_range)\n",
    "mmio_3 = MMIO(base_address_3, address_range)\n"
   ]
  },
  {
   "cell_type": "code",
   "execution_count": 44,
   "id": "34645e07",
   "metadata": {},
   "outputs": [],
   "source": [
    "\n",
    "register_offset_TSCR0 = 0x0     # Timer 0 Control and Status Register\n",
    "register_offset_TSCR1 = 0x10    # Timer 1 Control and Status Register\n",
    "register_offset_TLR0 = 0x4      # Timer 0 Load Register\n",
    "register_offset_TLR1 = 0x14     # Timer 1 Load Register\n",
    "\n",
    "value_to_write = 0b1010010110   #PWM, TCSR, UDT, Autoreload, timer\n",
    "\n",
    "mmio_0.write(register_offset_TSCR0, value_to_write)\n",
    "mmio_0.write(register_offset_TSCR1, value_to_write)\n"
   ]
  },
  {
   "cell_type": "code",
   "execution_count": 45,
   "id": "d9a444be",
   "metadata": {},
   "outputs": [],
   "source": [
    "_period_ = 20000  # 50Hz, 20ms\n",
    "_pulse_ = 90  # 0-99\n",
    "period = int((_period_ & 0x0ffff) * 100)\n",
    "pulse = int((_pulse_ & 0x07f) * period / 100)\n",
    "\n",
    "mmio_0.write(register_offset_TLR0, period)\n",
    "mmio_0.write(register_offset_TLR1, pulse)"
   ]
  },
  {
   "cell_type": "code",
   "execution_count": null,
   "id": "d38871ae",
   "metadata": {},
   "outputs": [],
   "source": []
  },
  {
   "cell_type": "code",
   "execution_count": 46,
   "id": "49e89bf0",
   "metadata": {},
   "outputs": [],
   "source": [
    "mask = 0xffffffff\n",
    "gpio_out.write(0x0,mask)\n",
    "mmio_0.write(register_offset_TLR1, 0)"
   ]
  },
  {
   "cell_type": "code",
   "execution_count": null,
   "id": "ef92051b",
   "metadata": {},
   "outputs": [],
   "source": []
  }
 ],
 "metadata": {
  "kernelspec": {
   "display_name": "Python 3 (ipykernel)",
   "language": "python",
   "name": "python3"
  },
  "language_info": {
   "codemirror_mode": {
    "name": "ipython",
    "version": 3
   },
   "file_extension": ".py",
   "mimetype": "text/x-python",
   "name": "python",
   "nbconvert_exporter": "python",
   "pygments_lexer": "ipython3",
   "version": "3.10.12"
  }
 },
 "nbformat": 4,
 "nbformat_minor": 5
}
